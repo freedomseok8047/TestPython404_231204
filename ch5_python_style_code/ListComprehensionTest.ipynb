{
 "cells": [
  {
   "cell_type": "code",
   "execution_count": 2,
   "metadata": {},
   "outputs": [
    {
     "name": "stdout",
     "output_type": "stream",
     "text": [
      "result 조회 : [0, 1, 2, 3, 4]\n"
     ]
    }
   ],
   "source": [
    "# 기존에 새 리스트 추가시, 반복문이나, 안에 로직을 이용해서, 작업.\n",
    "# 컴프리헨션으로 작업을 하면, 해당 리스트에 반복문을 주입해서 , 바로 생성.\n",
    "\n",
    "result = [i for i in range(5)]\n",
    "print(f\"result 조회 : {result}\")"
   ]
  },
  {
   "cell_type": "code",
   "execution_count": 3,
   "metadata": {},
   "outputs": [
    {
     "name": "stdout",
     "output_type": "stream",
     "text": [
      "result 조회 : [0, 2, 4]\n"
     ]
    }
   ],
   "source": [
    "# 컴프리헨션으로 작업을 하면, 해당 리스트에 반복문을 주입해서, 바로 생성. \n",
    "# 조건문 추가하기. \n",
    "result = [i for i in range(5) if i % 2 ==0]\n",
    "print(f\"result 조회 : {result}\")"
   ]
  },
  {
   "cell_type": "code",
   "execution_count": null,
   "metadata": {},
   "outputs": [],
   "source": [
    "# 조건문 + else구문 추가하기. \n",
    "result = [i if i % 2 == 0 else 77 for i in range(5)]\n",
    "print(f\"result 조회 : {result}\")"
   ]
  },
  {
   "cell_type": "code",
   "execution_count": 4,
   "metadata": {},
   "outputs": [
    {
     "name": "stdout",
     "output_type": "stream",
     "text": [
      "result 조회 : ['a1', 'a2', 'a3', 'b1', 'b2', 'b3', 'c1', 'c2', 'c3']\n"
     ]
    }
   ],
   "source": [
    "# 중첩 반복문 이용하기 \n",
    "test1 = \"abc\"\n",
    "test2 = \"123\"\n",
    "\n",
    "result = [i+j for i in test1 for j in test2]\n",
    "print(f\"result 조회 : {result}\")"
   ]
  },
  {
   "cell_type": "code",
   "execution_count": 5,
   "metadata": {},
   "outputs": [
    {
     "name": "stdout",
     "output_type": "stream",
     "text": [
      "result 조회 : ['ab', 'ac', 'ba', 'bc', 'ca', 'cb']\n"
     ]
    }
   ],
   "source": [
    "# 중첩 반복문 이용하기. 조건 붙이기 필터링\n",
    "test1 = [\"a\", \"b\", \"c\"]\n",
    "test2 = [\"a\", \"b\", \"c\"]\n",
    "\n",
    "result = [i+j for i in test1 for j in test2 if not(i==j)]\n",
    "print(f\"result 조회 : {result}\")"
   ]
  }
 ],
 "metadata": {
  "kernelspec": {
   "display_name": "Python 3",
   "language": "python",
   "name": "python3"
  },
  "language_info": {
   "codemirror_mode": {
    "name": "ipython",
    "version": 3
   },
   "file_extension": ".py",
   "mimetype": "text/x-python",
   "name": "python",
   "nbconvert_exporter": "python",
   "pygments_lexer": "ipython3",
   "version": "3.12.0"
  }
 },
 "nbformat": 4,
 "nbformat_minor": 2
}
