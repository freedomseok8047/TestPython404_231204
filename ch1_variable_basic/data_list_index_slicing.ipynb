{
 "cells": [
  {
   "cell_type": "code",
   "execution_count": 10,
   "metadata": {},
   "outputs": [
    {
     "name": "stdout",
     "output_type": "stream",
     "text": [
      "리스트 출력 해보기 : [1, 2, 3, 4.5, '이준석']\n",
      " alist의 타입 : <class 'list'>\n",
      " a의 타입 : <class 'int'>\n",
      "인덱싱 : 0 번째 요소 : 1\n",
      "슬라이싱 : [0:3] : [1, 2, 3]\n",
      "슬라이싱 : [0:3] : [1, 2, 3, 4.5]\n",
      "슬라이싱 전체 출력 : [:] : [1, 2, 3, 4.5, '이준석']\n",
      "슬라이싱 전체 출력 : [0::1] : [1, 2, 3, 4.5, '이준석']\n",
      "슬라이싱 증가 값 2 : [::2] : [1, 3, '이준석']\n",
      "슬라이싱 증가 값 -1 -> 리버스  : [::-1] : ['이준석', 4.5, 3, 2, 1]\n",
      "슬라이싱 [2:-1] 출력 : : [3, 4.5]\n",
      "슬라이싱 [2:4] 출력 : : [3, 4.5]\n"
     ]
    }
   ],
   "source": [
    "#리스트, 주의, 다른 형끼리 가능 \n",
    "\n",
    "alist = [1,2,3,4.5,\"이준석\"]\n",
    "print(f\"리스트 출력 해보기 : {alist}\")\n",
    "print(f\" alist의 타입 : {type(alist)}\")\n",
    "a = 3\n",
    "print(f\" a의 타입 : {type(a)}\")\n",
    "\n",
    "# 인덱싱, 슬라이싱 [a:b:c] -> a:시작값, b: 마지막 값 , c: 증가값\n",
    "# b 마지막 값은 포함 안됨 주의!\n",
    "# 리버스 인뎅식, 요소의 맨 마지막이 -1 부터 시작 \n",
    "print(f\"인덱싱 : 0 번째 요소 : {alist[0]}\")\n",
    "\n",
    "# 슬라이싱 \n",
    "print(f\"슬라이싱 : [0:3] : {alist[0:3]}\")\n",
    "print(f\"슬라이싱 : [0:3] : {alist[0:4]}\")\n",
    "print(f\"슬라이싱 전체 출력 : [:] : {alist[:]}\")\n",
    "print(f\"슬라이싱 전체 출력 : [0::1] : {alist[::1]}\")\n",
    "print(f\"슬라이싱 증가 값 2 : [::2] : {alist[::2]}\")\n",
    "print(f\"슬라이싱 증가 값 -1 -> 리버스  : [::-1] : {alist[::-1]}\")\n",
    "print(f\"슬라이싱 [2:-1] 출력 : : {alist[2:-1]}\")\n",
    "print(f\"슬라이싱 [2:4] 출력 : : {alist[2:4]}\")"
   ]
  },
  {
   "cell_type": "code",
   "execution_count": 12,
   "metadata": {},
   "outputs": [
    {
     "name": "stdout",
     "output_type": "stream",
     "text": [
      "sumList 출력 : [1, 2, 3, 4.5, '이준석', 1, 2, 3, 4.5, '이준석']\n",
      "mulList 출력 : [1, 2, 3, 4.5, '이준석', 1, 2, 3, 4.5, '이준석', 1, 2, 3, 4.5, '이준석']\n",
      "alist의 요소의 값 중 3이 있나요? : True\n"
     ]
    }
   ],
   "source": [
    "# 리스트 덧셈, 곱셈 , in 연산자\n",
    "alist = [1,2,3,4.5,\"이준석\"]\n",
    "sumList = alist + alist\n",
    "mulList = alist * 3\n",
    "print(f\"sumList 출력 : {sumList}\")\n",
    "print(f\"mulList 출력 : {mulList}\")\n",
    "# in 연산자 확인 \n",
    "print(f\"alist의 요소의 값 중 3이 있나요? : {3 in alist}\")"
   ]
  },
  {
   "cell_type": "code",
   "execution_count": 17,
   "metadata": {},
   "outputs": [
    {
     "name": "stdout",
     "output_type": "stream",
     "text": [
      "alist 출력 : [1, 2, 3, 4.5, '이준석', '이준석2']\n",
      "blist 출력 : [1, 2, 3, 4.5, '이준석', 'a', 'b', 'c']\n",
      "alist 출력 : [1, 2, 3, 4.5, '이준석']\n",
      "alist 출력 : ['이준석 0 대신 덮어쓰기', 2, 3, 4.5, '이준석']\n",
      "alist 출력 : [2, 3, 4.5, '이준석']\n"
     ]
    }
   ],
   "source": [
    "#append 값 새로 추가\n",
    "alist = [1,2,3,4.5,\"이준석\"]\n",
    "alist.append(\"이준석2\")\n",
    "print(f\"alist 출력 : {alist}\")\n",
    "\n",
    "\n",
    "#extend 새로운 리스트 추가\n",
    "blist=[1,2,3,4.5,\"이준석\"]\n",
    "clist= [\"a\", \"b\", \"c\"]\n",
    "blist.extend(clist)\n",
    "print(f\"blist 출력 : {blist}\")\n",
    "\n",
    "# remove 특정 요소 삭제\n",
    "alist.remove(\"이준석2\")\n",
    "print(f\"alist 출력 : {alist}\")\n",
    "\n",
    "# 재할당, 요소에 직접 접근해서, 덮어쓰기\n",
    "alist[0] = \"이준석 0 대신 덮어쓰기\"\n",
    "print(f\"alist 출력 : {alist}\")\n",
    "\n",
    "# del 함수 이용해서, 해당 요소 삭제\\n\n",
    "del alist[0]\n",
    "print(f\"alist 출력 : {alist}\")\n"
   ]
  },
  {
   "cell_type": "code",
   "execution_count": 24,
   "metadata": {},
   "outputs": [
    {
     "name": "stdout",
     "output_type": "stream",
     "text": [
      "a 리스트 : [1, 2, 3], x : 1, y: 2, z:3\n"
     ]
    }
   ],
   "source": [
    "#패킹, 언패킹 = 리액트에서는 비구조화 할당. \n",
    "a = [1,2,3]\n",
    "x,y,z = a \n",
    "print(f\"a 리스트 : {a}, x : {x}, y: {y}, z:{z}\")"
   ]
  },
  {
   "cell_type": "code",
   "execution_count": 22,
   "metadata": {},
   "outputs": [
    {
     "name": "stdout",
     "output_type": "stream",
     "text": [
      " alist 와 blist 저장된 위치 주소값 비교 : False\n",
      " a 와 b 저장된 위치 주소값 비교 : False\n",
      " c 와 d 저장된 위치 주소값 비교 : True\n",
      " e 와 f 저장된 위치 주소값 비교 : True\n",
      " g 와 h 저장된 위치 주소값 비교 : False\n"
     ]
    }
   ],
   "source": [
    "#리스트 요소의 메모리 위치 저장소 간단히 확인\n",
    "\n",
    "alist = [1,2,3]\n",
    "blist = [1,2,3]\n",
    "\n",
    "a = 300\n",
    "b = 300\n",
    "c = 1 \n",
    "d = 1\n",
    "# 256까지 같은 저장소 사용\n",
    "e = 256\n",
    "f = 256\n",
    "g = 257\n",
    "h = 257\n",
    "print(f\" alist 와 blist 저장된 위치 주소값 비교 : {alist is blist}\")\n",
    "print(f\" a 와 b 저장된 위치 주소값 비교 : {a is b}\")\n",
    "print(f\" c 와 d 저장된 위치 주소값 비교 : {c is d}\")\n",
    "print(f\" e 와 f 저장된 위치 주소값 비교 : {e is f}\")\n",
    "print(f\" g 와 h 저장된 위치 주소값 비교 : {g is h}\")"
   ]
  }
 ],
 "metadata": {
  "kernelspec": {
   "display_name": "Python 3",
   "language": "python",
   "name": "python3"
  },
  "language_info": {
   "codemirror_mode": {
    "name": "ipython",
    "version": 3
   },
   "file_extension": ".py",
   "mimetype": "text/x-python",
   "name": "python",
   "nbconvert_exporter": "python",
   "pygments_lexer": "ipython3",
   "version": "3.12.0"
  }
 },
 "nbformat": 4,
 "nbformat_minor": 2
}
